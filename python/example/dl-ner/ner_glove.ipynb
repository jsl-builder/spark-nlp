{
 "cells": [
  {
   "cell_type": "markdown",
   "metadata": {},
   "source": [
    "![JohnSnowLabs](https://nlp.johnsnowlabs.com/assets/images/logo.png)"
   ]
  },
  {
   "cell_type": "markdown",
   "metadata": {},
   "source": [
    "# Use pretrained `ner_glove_dl` Pipeline"
   ]
  },
  {
   "cell_type": "markdown",
   "metadata": {},
   "source": [
    "### Spark `2.4` and Spark NLP `???`\n",
    "\n",
    " * DocumentAssembler\n",
    " * SentenceDetector\n",
    " * Tokenizer\n",
    " * Glove\n",
    " * NerDL\n"
   ]
  },
  {
   "cell_type": "code",
   "execution_count": 24,
   "metadata": {},
   "outputs": [],
   "source": [
    "import sys\n",
    "sys.path.append('../../')\n",
    "\n",
    "#Spark ML and SQL\n",
    "from pyspark.ml import Pipeline, PipelineModel\n",
    "from pyspark.sql.functions import array_contains\n",
    "from pyspark.sql import SparkSession\n",
    "from pyspark.sql.types import StructType, StructField, IntegerType, StringType\n",
    "#Spark NLP\n",
    "from sparknlp.annotator import *\n",
    "from sparknlp.common import RegexRule\n",
    "from sparknlp.base import DocumentAssembler, Finisher"
   ]
  },
  {
   "cell_type": "markdown",
   "metadata": {},
   "source": [
    "### Let's create a Spark Session for our app"
   ]
  },
  {
   "cell_type": "code",
   "execution_count": 25,
   "metadata": {},
   "outputs": [],
   "source": [
    "spark = SparkSession.builder \\\n",
    "    .appName(\"Ner_Glove\")\\\n",
    "    .master(\"local[*]\")\\\n",
    "    .config(\"spark.driver.memory\",\"8G\")\\\n",
    "    .config(\"spark.driver.maxResultSize\", \"2G\")\\\n",
    "    .config(\"spark.jars\", \"/tmp/sparknlp.jar\")\\\n",
    "    .config(\"spark.driver.extraClassPath\", \"/tmp/sparknlp.jar\")\\\n",
    "    .config(\"spark.executor.extraClassPath\", \"/tmp/sparknlp.jar\")\\\n",
    "    .config(\"spark.kryoserializer.buffer.max\", \"500m\")\\\n",
    "    .getOrCreate()"
   ]
  },
  {
   "cell_type": "code",
   "execution_count": 26,
   "metadata": {},
   "outputs": [
    {
     "data": {
      "text/plain": [
       "'2.3.0'"
      ]
     },
     "execution_count": 26,
     "metadata": {},
     "output_type": "execute_result"
    }
   ],
   "source": [
    "spark.version"
   ]
  },
  {
   "cell_type": "code",
   "execution_count": 27,
   "metadata": {},
   "outputs": [],
   "source": [
    "testSents = [\n",
    "    \"Germany is a country in Europe.\",\n",
    "    \"The European Comission should take action.\",\n",
    "    \"All the views turned to Mr. John Doe.\"\n",
    "]"
   ]
  },
  {
   "cell_type": "code",
   "execution_count": 28,
   "metadata": {},
   "outputs": [],
   "source": [
    "pipeline = PipelineModel.load(\"../demo_pipelines/entity_recognizer_dl_en_1.8.0_2.4_1552683706593\")"
   ]
  },
  {
   "cell_type": "code",
   "execution_count": 29,
   "metadata": {},
   "outputs": [
    {
     "data": {
      "text/plain": [
       "[{'document': ['Germany is a country in Europe.'],\n",
       "  'embeddings': ['Germany', 'is', 'a', 'country', 'in', 'Europe', '.'],\n",
       "  'ner': ['I-LOC', 'O', 'O', 'O', 'O', 'I-LOC', 'O'],\n",
       "  'sentence': ['Germany is a country in Europe.'],\n",
       "  'token': ['Germany', 'is', 'a', 'country', 'in', 'Europe', '.']},\n",
       " {'document': ['The European Comission should take action.'],\n",
       "  'embeddings': ['The',\n",
       "   'European',\n",
       "   'Comission',\n",
       "   'should',\n",
       "   'take',\n",
       "   'action',\n",
       "   '.'],\n",
       "  'ner': ['O', 'I-MISC', 'I-ORG', 'O', 'O', 'O', 'O'],\n",
       "  'sentence': ['The European Comission should take action.'],\n",
       "  'token': ['The', 'European', 'Comission', 'should', 'take', 'action', '.']},\n",
       " {'document': ['All the views turned to Mr. John Doe.'],\n",
       "  'embeddings': ['All',\n",
       "   'the',\n",
       "   'views',\n",
       "   'turned',\n",
       "   'to',\n",
       "   'Mr',\n",
       "   '.',\n",
       "   'John',\n",
       "   'Doe',\n",
       "   '.'],\n",
       "  'ner': ['O', 'O', 'O', 'O', 'O', 'O', 'O', 'I-PER', 'I-PER', 'O'],\n",
       "  'sentence': ['All the views turned to Mr. John Doe.'],\n",
       "  'token': ['All',\n",
       "   'the',\n",
       "   'views',\n",
       "   'turned',\n",
       "   'to',\n",
       "   'Mr',\n",
       "   '.',\n",
       "   'John',\n",
       "   'Doe',\n",
       "   '.']}]"
      ]
     },
     "execution_count": 29,
     "metadata": {},
     "output_type": "execute_result"
    }
   ],
   "source": [
    "from sparknlp.base import LightPipeline\n",
    "lp = LightPipeline(pipeline)\n",
    "lp.annotate(testSents)"
   ]
  }
 ],
 "metadata": {
  "kernelspec": {
   "display_name": "Python 3",
   "language": "python",
   "name": "python3"
  },
  "language_info": {
   "codemirror_mode": {
    "name": "ipython",
    "version": 3
   },
   "file_extension": ".py",
   "mimetype": "text/x-python",
   "name": "python",
   "nbconvert_exporter": "python",
   "pygments_lexer": "ipython3",
   "version": "3.6.1"
  }
 },
 "nbformat": 4,
 "nbformat_minor": 2
}
