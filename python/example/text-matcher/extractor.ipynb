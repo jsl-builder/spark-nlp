{
 "cells": [
  {
   "cell_type": "code",
   "execution_count": 1,
   "metadata": {},
   "outputs": [],
   "source": [
    "import os\n",
    "import sys\n",
    "sys.path.append('../../')\n",
    "\n",
    "from pyspark.sql import SparkSession\n",
    "from pyspark.ml import Pipeline\n",
    "\n",
    "from sparknlp.annotator import *\n",
    "from sparknlp.common import *\n",
    "from sparknlp.base import *"
   ]
  },
  {
   "cell_type": "code",
   "execution_count": 2,
   "metadata": {},
   "outputs": [],
   "source": [
    "spark = SparkSession.builder \\\n",
    "    .appName(\"ner\")\\\n",
    "    .master(\"local[*]\")\\\n",
    "    .config(\"spark.driver.memory\",\"4G\")\\\n",
    "    .config(\"spark.driver.maxResultSize\", \"2G\")\\\n",
    "    .config(\"spark.driver.extraClassPath\", \"lib\\sparknlp.jar\")\\\n",
    "    .config(\"spark.kryoserializer.buffer.max\", \"500m\")\\\n",
    "    .getOrCreate()"
   ]
  },
  {
   "cell_type": "code",
   "execution_count": 20,
   "metadata": {},
   "outputs": [],
   "source": [
    "import time\n",
    "\n",
    "documentAssembler = DocumentAssembler()\\\n",
    "  .setInputCol(\"text\")\\\n",
    "  .setOutputCol(\"document\")\n",
    "\n",
    "sentenceDetector = SentenceDetector()\\\n",
    "  .setInputCols([\"document\"])\\\n",
    "  .setOutputCol(\"sentence\")\n",
    "\n",
    "tokenizer = Tokenizer()\\\n",
    "  .setInputCols([\"document\"])\\\n",
    "  .setOutputCol(\"token\")\n",
    "\n",
    "extractor = TextMatcher()\\\n",
    "  .setEntities(\"entities.txt\")\\\n",
    "  .setInputCols([\"token\", \"sentence\"])\\\n",
    "  .setOutputCol(\"entites\")\n",
    "\n",
    "finisher = Finisher() \\\n",
    "    .setInputCols([\"entites\"]) \\\n",
    "    .setIncludeMetadata(False) \\\n",
    "    .setCleanAnnotations(True)\n",
    "\n",
    "pipeline = Pipeline(\n",
    "    stages = [\n",
    "    documentAssembler,\n",
    "    sentenceDetector,\n",
    "    tokenizer,\n",
    "    extractor,\n",
    "    finisher\n",
    "  ])\n"
   ]
  },
  {
   "cell_type": "code",
   "execution_count": 16,
   "metadata": {},
   "outputs": [
    {
     "name": "stdout",
     "output_type": "stream",
     "text": [
      "+------+---------+--------------------+\n",
      "|itemid|sentiment|                text|\n",
      "+------+---------+--------------------+\n",
      "|     1|        0|                 ...|\n",
      "|     2|        0|                 ...|\n",
      "|     3|        1|              omg...|\n",
      "|     4|        0|          .. Omga...|\n",
      "|     5|        0|         i think ...|\n",
      "|     6|        0|         or i jus...|\n",
      "|     7|        1|       Juuuuuuuuu...|\n",
      "|     8|        0|       Sunny Agai...|\n",
      "|     9|        1|      handed in m...|\n",
      "|    10|        1|      hmmmm.... i...|\n",
      "|    11|        0|      I must thin...|\n",
      "|    12|        1|      thanks to a...|\n",
      "|    13|        0|      this weeken...|\n",
      "|    14|        0|     jb isnt show...|\n",
      "|    15|        0|     ok thats it ...|\n",
      "|    16|        0|    &lt;-------- ...|\n",
      "|    17|        0|    awhhe man.......|\n",
      "|    18|        1|    Feeling stran...|\n",
      "|    19|        0|    HUGE roll of ...|\n",
      "|    20|        0|    I just cut my...|\n",
      "+------+---------+--------------------+\n",
      "only showing top 20 rows\n",
      "\n"
     ]
    }
   ],
   "source": [
    "#Load the input data to be annotated\n",
    "data = spark. \\\n",
    "        read. \\\n",
    "        parquet(\"file:///\" + os.getcwd() + \"../../../../src/test/resources/sentiment.parquet\"). \\\n",
    "        limit(1000).cache()\n",
    "data.show(20)"
   ]
  },
  {
   "cell_type": "code",
   "execution_count": 21,
   "metadata": {
    "scrolled": false
   },
   "outputs": [
    {
     "name": "stdout",
     "output_type": "stream",
     "text": [
      "Start fitting\n",
      "Fitting is ended\n"
     ]
    }
   ],
   "source": [
    "print(\"Start fitting\")\n",
    "model = pipeline.fit(data)\n",
    "print(\"Fitting is ended\")"
   ]
  },
  {
   "cell_type": "code",
   "execution_count": 22,
   "metadata": {},
   "outputs": [
    {
     "name": "stdout",
     "output_type": "stream",
     "text": [
      "+------+---------+--------------------+-----------------+\n",
      "|itemid|sentiment|                text| finished_entites|\n",
      "+------+---------+--------------------+-----------------+\n",
      "|     1|        0|                 ...|                 |\n",
      "|     2|        0|                 ...|                 |\n",
      "|     3|        1|              omg...|                 |\n",
      "|     4|        0|          .. Omga...|                 |\n",
      "|     5|        0|         i think ...|          i think|\n",
      "|     6|        0|         or i jus...|                 |\n",
      "|     7|        1|       Juuuuuuuuu...|                 |\n",
      "|     8|        0|       Sunny Agai...|                 |\n",
      "|     9|        1|      handed in m...|                 |\n",
      "|    10|        1|      hmmmm.... i...|                 |\n",
      "|    11|        0|      I must thin...|                 |\n",
      "|    12|        1|      thanks to a...|                 |\n",
      "|    13|        0|      this weeken...|                 |\n",
      "|    14|        0|     jb isnt show...|                 |\n",
      "|    15|        0|     ok thats it ...|                 |\n",
      "|    16|        0|    &lt;-------- ...|                 |\n",
      "|    17|        0|    awhhe man.......|                 |\n",
      "|    18|        1|    Feeling stran...|Feeling strangely|\n",
      "|    19|        0|    HUGE roll of ...|                 |\n",
      "|    20|        0|    I just cut my...|                 |\n",
      "+------+---------+--------------------+-----------------+\n",
      "only showing top 20 rows\n",
      "\n"
     ]
    }
   ],
   "source": [
    "extracted = model.transform(data)\n",
    "extracted.show()"
   ]
  },
  {
   "cell_type": "code",
   "execution_count": 23,
   "metadata": {},
   "outputs": [
    {
     "data": {
      "text/plain": [
       "DataFrame[finished_entites: string]"
      ]
     },
     "execution_count": 23,
     "metadata": {},
     "output_type": "execute_result"
    }
   ],
   "source": [
    "extracted.select(\"finished_entites\")"
   ]
  },
  {
   "cell_type": "code",
   "execution_count": 24,
   "metadata": {},
   "outputs": [],
   "source": [
    "pipeline.write().overwrite().save(\"./extractor_pipeline\")\n",
    "model.write().overwrite().save(\"./extractor_model\")"
   ]
  },
  {
   "cell_type": "code",
   "execution_count": 25,
   "metadata": {
    "scrolled": false
   },
   "outputs": [
    {
     "name": "stdout",
     "output_type": "stream",
     "text": [
      "+------+---------+--------------------+-----------------+\n",
      "|itemid|sentiment|                text| finished_entites|\n",
      "+------+---------+--------------------+-----------------+\n",
      "|     1|        0|                 ...|                 |\n",
      "|     2|        0|                 ...|                 |\n",
      "|     3|        1|              omg...|                 |\n",
      "|     4|        0|          .. Omga...|                 |\n",
      "|     5|        0|         i think ...|          i think|\n",
      "|     6|        0|         or i jus...|                 |\n",
      "|     7|        1|       Juuuuuuuuu...|                 |\n",
      "|     8|        0|       Sunny Agai...|                 |\n",
      "|     9|        1|      handed in m...|                 |\n",
      "|    10|        1|      hmmmm.... i...|                 |\n",
      "|    11|        0|      I must thin...|                 |\n",
      "|    12|        1|      thanks to a...|                 |\n",
      "|    13|        0|      this weeken...|                 |\n",
      "|    14|        0|     jb isnt show...|                 |\n",
      "|    15|        0|     ok thats it ...|                 |\n",
      "|    16|        0|    &lt;-------- ...|                 |\n",
      "|    17|        0|    awhhe man.......|                 |\n",
      "|    18|        1|    Feeling stran...|Feeling strangely|\n",
      "|    19|        0|    HUGE roll of ...|                 |\n",
      "|    20|        0|    I just cut my...|                 |\n",
      "+------+---------+--------------------+-----------------+\n",
      "only showing top 20 rows\n",
      "\n"
     ]
    }
   ],
   "source": [
    "from pyspark.ml import PipelineModel, Pipeline\n",
    "\n",
    "Pipeline.read().load(\"./extractor_pipeline\")\n",
    "sameModel = PipelineModel.read().load(\"./extractor_model\")\n",
    "\n",
    "sameModel.transform(data).show()"
   ]
  },
  {
   "cell_type": "code",
   "execution_count": null,
   "metadata": {},
   "outputs": [],
   "source": []
  }
 ],
 "metadata": {
  "anaconda-cloud": {},
  "kernelspec": {
   "display_name": "Python 3",
   "language": "python",
   "name": "python3"
  },
  "language_info": {
   "codemirror_mode": {
    "name": "ipython",
    "version": 3
   },
   "file_extension": ".py",
   "mimetype": "text/x-python",
   "name": "python",
   "nbconvert_exporter": "python",
   "pygments_lexer": "ipython3",
   "version": "3.6.5"
  }
 },
 "nbformat": 4,
 "nbformat_minor": 1
}
