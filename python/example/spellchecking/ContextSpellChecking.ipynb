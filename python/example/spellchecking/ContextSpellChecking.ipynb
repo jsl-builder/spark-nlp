{
 "cells": [
  {
   "cell_type": "markdown",
   "metadata": {},
   "source": [
    "<img src=\"https://nlp.johnsnowlabs.com/assets/images/logo.png\" width=\"180\" height=\"50\" style=\"float: left;\">"
   ]
  },
  {
   "cell_type": "code",
   "execution_count": 67,
   "metadata": {},
   "outputs": [],
   "source": [
    "from pyspark.sql import SparkSession\n",
    "from pyspark.ml import Pipeline\n",
    "\n",
    "from sparknlp.annotator import *\n",
    "from sparknlp.common import RegexRule\n",
    "from sparknlp.base import DocumentAssembler, Finisher"
   ]
  },
  {
   "cell_type": "code",
   "execution_count": 68,
   "metadata": {},
   "outputs": [],
   "source": [
    "import sparknlp\n",
    "from sparknlp.pretrained import PretrainedPipeline\n",
    "\n",
    "spark = sparknlp.start()"
   ]
  },
  {
   "cell_type": "code",
   "execution_count": 77,
   "metadata": {},
   "outputs": [],
   "source": [
    "data = [\"Yesterday I lost my blue unikorn .\", \"Through a note of introduction from Bettina.\"]"
   ]
  },
  {
   "cell_type": "code",
   "execution_count": 70,
   "metadata": {},
   "outputs": [],
   "source": [
    "  documentAssembler = DocumentAssembler()\\\n",
    "      .setInputCol(\"region\")\\\n",
    "      .setOutputCol(\"text\")\n",
    "\n",
    "  tokenizer = Tokenizer()\\\n",
    "    .setInputCols([\"text\"])\\\n",
    "    .setOutputCol(\"token\")\n",
    "\n",
    "  ocrspellModel = ContextSpellCheckerModel()\\\n",
    "    .pretrained()\\\n",
    "    .setInputCols([\"token\"])\\\n",
    "    .setOutputCol(\"spell_checked\")\\\n",
    "    .setTradeoff(10.0)\n",
    "    \n",
    "    \n",
    "  finisher = Finisher()\\\n",
    "    .setInputCols([\"spell_checked\"])\\\n",
    "    .setValueSplitSymbol(\"@\")\n"
   ]
  },
  {
   "cell_type": "code",
   "execution_count": null,
   "metadata": {},
   "outputs": [],
   "source": [
    "pipeline = Pipeline(stages=[\n",
    "    documentAssembler,\n",
    "    tokenizer,\n",
    "    ocrspellModel,\n",
    "    finisher\n",
    "])\n",
    "\n",
    "empty = spark.sparkContext.parallelize([['empty']]).toDF().toDF(\"region\").cache()\n",
    "\n",
    "pipeline_model = pipeline.fit(empty)\n",
    "checked_data.select(\"finished_spell_checked\").show(truncate=False)\n"
   ]
  },
  {
   "cell_type": "code",
   "execution_count": 79,
   "metadata": {},
   "outputs": [
    {
     "data": {
      "text/plain": [
       "[{'spell_checked': ['Yesterday', 'I', 'lost', 'my', 'blue', 'uniform', '.']},\n",
       " {'spell_checked': ['Through',\n",
       "   'a',\n",
       "   'note',\n",
       "   'of',\n",
       "   'introduction',\n",
       "   'from',\n",
       "   'Bettina',\n",
       "   '.']}]"
      ]
     },
     "execution_count": 79,
     "metadata": {},
     "output_type": "execute_result"
    }
   ],
   "source": [
    "from sparknlp.base import LightPipeline\n",
    "lp = LightPipeline(pipeline_model)\n",
    "lp.annotate(data)"
   ]
  }
 ],
 "metadata": {
  "kernelspec": {
   "display_name": "Python 3",
   "language": "python",
   "name": "python3"
  },
  "language_info": {
   "codemirror_mode": {
    "name": "ipython",
    "version": 3
   },
   "file_extension": ".py",
   "mimetype": "text/x-python",
   "name": "python",
   "nbconvert_exporter": "python",
   "pygments_lexer": "ipython3",
   "version": "3.7.2"
  }
 },
 "nbformat": 4,
 "nbformat_minor": 2
}
