{
 "cells": [
  {
   "cell_type": "code",
   "execution_count": 5,
   "metadata": {},
   "outputs": [],
   "source": [
    "import sys\n",
    "sys.path.append('../../')\n",
    "\n",
    "from pyspark.sql import SparkSession\n",
    "from pyspark.ml import Pipeline\n",
    "\n",
    "from sparknlp.annotator import *\n",
    "from sparknlp.common import *\n",
    "from sparknlp.base import *\n"
   ]
  },
  {
   "cell_type": "code",
   "execution_count": 6,
   "metadata": {},
   "outputs": [],
   "source": [
    "data = spark.sparkContext.parallelize([\n",
    "    [\"Yesterday I lost my blue unikorn .\"], \n",
    "    [\"he is gane .\"]]).toDF().toDF(\"region\").cache()"
   ]
  },
  {
   "cell_type": "code",
   "execution_count": 7,
   "metadata": {},
   "outputs": [],
   "source": [
    "  documentAssembler = DocumentAssembler()\\\n",
    "      .setInputCol(\"region\")\\\n",
    "      .setOutputCol(\"text\")\n",
    "\n",
    "  tokenizer = Tokenizer()\\\n",
    "    .setInputCols([\"text\"])\\\n",
    "    .setOutputCol(\"token\")\n",
    "\n",
    "  ocrspellModel = ContextSpellCheckerModel()\\\n",
    "    .pretrained()\\\n",
    "    .setInputCols([\"token\"])\\\n",
    "    .setOutputCol(\"spell_checked\")\\\n",
    "    .setTradeoff(10.0)\n",
    "    \n",
    "    \n",
    "  finisher = Finisher()\\\n",
    "    .setInputCols([\"spell_checked\"])\\\n",
    "    .setValueSplitSymbol(\" \")\n"
   ]
  },
  {
   "cell_type": "code",
   "execution_count": 8,
   "metadata": {},
   "outputs": [
    {
     "name": "stdout",
     "output_type": "stream",
     "text": [
      "+----------------------------------+\n",
      "|finished_spell_checked            |\n",
      "+----------------------------------+\n",
      "|Yesterday@,@lost@my@blue@uniform@.|\n",
      "|he@is@gone@.                      |\n",
      "+----------------------------------+\n",
      "\n"
     ]
    }
   ],
   "source": [
    "pipeline = Pipeline(stages=[\n",
    "    documentAssembler,\n",
    "    tokenizer,\n",
    "    ocrspellModel,\n",
    "    finisher\n",
    "])\n",
    "\n",
    "checked_data = pipeline.fit(data).transform(data)\n",
    "checked_data.select(\"finished_spell_checked\").show(truncate=False)\n"
   ]
  },
  {
   "cell_type": "code",
   "execution_count": null,
   "metadata": {},
   "outputs": [],
   "source": []
  }
 ],
 "metadata": {
  "kernelspec": {
   "display_name": "Python 3",
   "language": "python",
   "name": "python3"
  },
  "language_info": {
   "codemirror_mode": {
    "name": "ipython",
    "version": 3
   },
   "file_extension": ".py",
   "mimetype": "text/x-python",
   "name": "python",
   "nbconvert_exporter": "python",
   "pygments_lexer": "ipython3",
   "version": "3.6.1"
  }
 },
 "nbformat": 4,
 "nbformat_minor": 2
}
