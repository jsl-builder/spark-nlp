{
 "cells": [
  {
   "cell_type": "markdown",
   "metadata": {},
   "source": [
    "<img src=\"https://nlp.johnsnowlabs.com/assets/images/logo.png\" width=\"180\" height=\"50\" style=\"float: left;\">"
   ]
  },
  {
   "cell_type": "markdown",
   "metadata": {},
   "source": [
    "## Sentiment Analysis Pipeline\n",
    "\n",
    "This pipeline will be used to explain a number of important features of the Spark-NLP library; Sentence Detection, Tokenization, Spell Checking, and Sentiment Detection.\n",
    "The idea is to start with natural language as could have been entered by a user, and get sentiment associated to it. Let's walk through each of the stages!\n"
   ]
  },
  {
   "cell_type": "markdown",
   "metadata": {},
   "source": [
    "### Spark `2.4` and Spark NLP `???`"
   ]
  },
  {
   "cell_type": "markdown",
   "metadata": {},
   "source": [
    "#### 1. Call necessary imports and set the resource path to read local data files"
   ]
  },
  {
   "cell_type": "code",
   "execution_count": 7,
   "metadata": {},
   "outputs": [],
   "source": [
    "#Imports\n",
    "import sys\n",
    "sys.path.append('../../')\n",
    "\n",
    "from pyspark.sql import SparkSession\n",
    "from pyspark.ml import Pipeline\n",
    "from pyspark.sql.functions import array_contains\n",
    "from sparknlp.annotator import *\n",
    "from pyspark.ml import Pipeline, PipelineModel\n",
    "\n",
    "# location of pre-trained pipelines\n",
    "resource_path= \"../demo_pipelines/movies_sentiment\""
   ]
  },
  {
   "cell_type": "markdown",
   "metadata": {},
   "source": [
    "#### 2. Load SparkSession if not already there"
   ]
  },
  {
   "cell_type": "code",
   "execution_count": 8,
   "metadata": {},
   "outputs": [],
   "source": [
    "spark = SparkSession.builder \\\n",
    "    .appName(\"Sentiment_Rule_Based\")\\\n",
    "    .master(\"local[*]\")\\\n",
    "    .config(\"spark.driver.memory\",\"8G\")\\\n",
    "    .config(\"spark.driver.maxResultSize\", \"2G\")\\\n",
    "    .config(\"spark.jars.packages\", \"JohnSnowLabs:spark-nlp:1.8.3\")\\\n",
    "    .config(\"spark.kryoserializer.buffer.max\", \"500m\")\\\n",
    "    .config(\"spark.jars\", \"/tmp/sparknlp.jar\")\\\n",
    "    .config(\"spark.driver.extraClassPath\", \"/tmp/sparknlp.jar\")\\\n",
    "    .config(\"spark.executor.extraClassPath\", \"/tmp/sparknlp.jar\")\\\n",
    "    .getOrCreate()"
   ]
  },
  {
   "cell_type": "markdown",
   "metadata": {},
   "source": [
    "#### 3. Load our predefined pipeline containing all the important annotators."
   ]
  },
  {
   "cell_type": "code",
   "execution_count": 9,
   "metadata": {},
   "outputs": [],
   "source": [
    "pipeline = PipelineModel.load(\"../demo_pipelines/movies_sentiment_analysis_en_1.8.0_2.4_1552694056982\")"
   ]
  },
  {
   "cell_type": "markdown",
   "metadata": {},
   "source": [
    "#### 4. Create some user opinions for some movies, keep an eye on the spelling, we'll get back to that soon."
   ]
  },
  {
   "cell_type": "code",
   "execution_count": 10,
   "metadata": {},
   "outputs": [],
   "source": [
    "testDocs = [\n",
    "    \"I felt so disapointed to see this very uninspired film. I recommend others to awoid this movie is not good.\",\n",
    "    \"This was movie was amesome, everything was nice.\"]"
   ]
  },
  {
   "cell_type": "code",
   "execution_count": 14,
   "metadata": {},
   "outputs": [
    {
     "data": {
      "text/plain": [
       "[(['I felt so disapointed to see this very uninspired film.',\n",
       "   'I recommend others to awoid this movie is not good.'],\n",
       "  ['negative']),\n",
       " (['This was movie was amesome, everything was nice.'], ['positive'])]"
      ]
     },
     "execution_count": 14,
     "metadata": {},
     "output_type": "execute_result"
    }
   ],
   "source": [
    "from sparknlp.base import LightPipeline\n",
    "lp = LightPipeline(pipeline)\n",
    "result = lp.annotate(testDocs)\n",
    "[(r['sentence'], r['my_sda_scores']) for r in result]"
   ]
  },
  {
   "cell_type": "markdown",
   "metadata": {},
   "source": [
    "#### Let's check the sentiment"
   ]
  },
  {
   "cell_type": "markdown",
   "metadata": {},
   "source": [
    " #### [Optional] - inspect intermmediate stages - spell checking"
   ]
  },
  {
   "cell_type": "code",
   "execution_count": 19,
   "metadata": {},
   "outputs": [
    {
     "data": {
      "text/plain": [
       "[[('I', 'I'),\n",
       "  ('felt', 'felt'),\n",
       "  ('so', 'so'),\n",
       "  ('disapointed', 'disappointed'),\n",
       "  ('to', 'to'),\n",
       "  ('see', 'see'),\n",
       "  ('this', 'this'),\n",
       "  ('very', 'very'),\n",
       "  ('uninspired', 'uninspired'),\n",
       "  ('film', 'film'),\n",
       "  ('.', '.'),\n",
       "  ('I', 'I'),\n",
       "  ('recommend', 'recommend'),\n",
       "  ('others', 'others'),\n",
       "  ('to', 'to'),\n",
       "  ('awoid', 'avoid'),\n",
       "  ('this', 'this'),\n",
       "  ('movie', 'movie'),\n",
       "  ('is', 'is'),\n",
       "  ('not', 'not'),\n",
       "  ('good', 'good'),\n",
       "  ('.', '.')],\n",
       " [('This', 'This'),\n",
       "  ('was', 'was'),\n",
       "  ('movie', 'movie'),\n",
       "  ('was', 'was'),\n",
       "  ('amesome', 'awesome'),\n",
       "  (',', ','),\n",
       "  ('everything', 'everything'),\n",
       "  ('was', 'was'),\n",
       "  ('nice', 'nice'),\n",
       "  ('.', '.')]]"
      ]
     },
     "execution_count": 19,
     "metadata": {},
     "output_type": "execute_result"
    }
   ],
   "source": [
    "[list(zip(r['token'],r['checked_token'])) for r in result]"
   ]
  },
  {
   "cell_type": "code",
   "execution_count": 16,
   "metadata": {},
   "outputs": [
    {
     "data": {
      "text/plain": [
       "[{'checked_token': ['I',\n",
       "   'felt',\n",
       "   'so',\n",
       "   'disappointed',\n",
       "   'to',\n",
       "   'see',\n",
       "   'this',\n",
       "   'very',\n",
       "   'uninspired',\n",
       "   'film',\n",
       "   '.',\n",
       "   'I',\n",
       "   'recommend',\n",
       "   'others',\n",
       "   'to',\n",
       "   'avoid',\n",
       "   'this',\n",
       "   'movie',\n",
       "   'is',\n",
       "   'not',\n",
       "   'good',\n",
       "   '.'],\n",
       "  'document': ['I felt so disapointed to see this very uninspired film. I recommend others to awoid this movie is not good.'],\n",
       "  'my_sda_scores': ['negative'],\n",
       "  'sentence': ['I felt so disapointed to see this very uninspired film.',\n",
       "   'I recommend others to awoid this movie is not good.'],\n",
       "  'token': ['I',\n",
       "   'felt',\n",
       "   'so',\n",
       "   'disapointed',\n",
       "   'to',\n",
       "   'see',\n",
       "   'this',\n",
       "   'very',\n",
       "   'uninspired',\n",
       "   'film',\n",
       "   '.',\n",
       "   'I',\n",
       "   'recommend',\n",
       "   'others',\n",
       "   'to',\n",
       "   'awoid',\n",
       "   'this',\n",
       "   'movie',\n",
       "   'is',\n",
       "   'not',\n",
       "   'good',\n",
       "   '.']},\n",
       " {'checked_token': ['This',\n",
       "   'was',\n",
       "   'movie',\n",
       "   'was',\n",
       "   'awesome',\n",
       "   ',',\n",
       "   'everything',\n",
       "   'was',\n",
       "   'nice',\n",
       "   '.'],\n",
       "  'document': ['This was movie was amesome, everything was nice.'],\n",
       "  'my_sda_scores': ['positive'],\n",
       "  'sentence': ['This was movie was amesome, everything was nice.'],\n",
       "  'token': ['This',\n",
       "   'was',\n",
       "   'movie',\n",
       "   'was',\n",
       "   'amesome',\n",
       "   ',',\n",
       "   'everything',\n",
       "   'was',\n",
       "   'nice',\n",
       "   '.']}]"
      ]
     },
     "execution_count": 16,
     "metadata": {},
     "output_type": "execute_result"
    }
   ],
   "source": [
    "result\n"
   ]
  },
  {
   "cell_type": "code",
   "execution_count": null,
   "metadata": {},
   "outputs": [],
   "source": []
  }
 ],
 "metadata": {
  "kernelspec": {
   "display_name": "Python 3",
   "language": "python",
   "name": "python3"
  }
 },
 "nbformat": 4,
 "nbformat_minor": 2
}
