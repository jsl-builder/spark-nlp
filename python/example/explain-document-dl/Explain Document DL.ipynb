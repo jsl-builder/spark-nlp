{
 "cells": [
  {
   "cell_type": "markdown",
   "metadata": {},
   "source": [
    "## Explain Document Deep Learning"
   ]
  },
  {
   "cell_type": "markdown",
   "metadata": {},
   "source": [
    "This notebook shows some of the available annotators in sparknlp. We start by importing required modules. "
   ]
  },
  {
   "cell_type": "code",
   "execution_count": 2,
   "metadata": {},
   "outputs": [
    {
     "data": {
      "text/html": [
       "\n",
       "            <div>\n",
       "                <p><b>SparkSession - in-memory</b></p>\n",
       "                \n",
       "        <div>\n",
       "            <p><b>SparkContext</b></p>\n",
       "\n",
       "            <p><a href=\"http://192.168.100.4:4042\">Spark UI</a></p>\n",
       "\n",
       "            <dl>\n",
       "              <dt>Version</dt>\n",
       "                <dd><code>v2.4.0</code></dd>\n",
       "              <dt>Master</dt>\n",
       "                <dd><code>local[*]</code></dd>\n",
       "              <dt>AppName</dt>\n",
       "                <dd><code>Spark NLP</code></dd>\n",
       "            </dl>\n",
       "        </div>\n",
       "        \n",
       "            </div>\n",
       "        "
      ],
      "text/plain": [
       "<pyspark.sql.session.SparkSession at 0x112c4b588>"
      ]
     },
     "execution_count": 2,
     "metadata": {},
     "output_type": "execute_result"
    }
   ],
   "source": [
    "import sparknlp\n",
    "sparknlp.start()"
   ]
  },
  {
   "cell_type": "code",
   "execution_count": 3,
   "metadata": {},
   "outputs": [],
   "source": [
    "from sparknlp.pretrained import PretrainedPipeline\n",
    "from sparknlp.base import *"
   ]
  },
  {
   "cell_type": "markdown",
   "metadata": {},
   "source": [
    "Now, we load a pipeline model which contains the following annotators:\n",
    "Tokenizer, Deep Sentence Detector, Lemmatizer, Stemmer, Part of Speech (POS) and Context Spell Checker"
   ]
  },
  {
   "cell_type": "code",
   "execution_count": 4,
   "metadata": {
    "scrolled": true
   },
   "outputs": [
    {
     "name": "stdout",
     "output_type": "stream",
     "text": [
      "CPU times: user 78 ms, sys: 42.6 ms, total: 121 ms\n",
      "Wall time: 26.3 s\n"
     ]
    }
   ],
   "source": [
    "%%time\n",
    "model_path = '/tmp/explain_document_dl_en_1.8.0_2.4_1553050306144'\n",
    "pipeline = LightPipeline(PipelineModel.load(model_path))"
   ]
  },
  {
   "cell_type": "markdown",
   "metadata": {},
   "source": [
    "We simple send the text we want to transform and the pipeline does the work."
   ]
  },
  {
   "cell_type": "code",
   "execution_count": 5,
   "metadata": {},
   "outputs": [
    {
     "name": "stdout",
     "output_type": "stream",
     "text": [
      "CPU times: user 30.4 ms, sys: 21.4 ms, total: 51.9 ms\n",
      "Wall time: 3.41 s\n"
     ]
    }
   ],
   "source": [
    "%%time\n",
    "text = 'I would love to visit many beautful cities wth you. He lives in an amazing country.'\n",
    "result = pipeline.annotate(text)"
   ]
  },
  {
   "cell_type": "markdown",
   "metadata": {},
   "source": [
    "We can see the output of each annotator below."
   ]
  },
  {
   "cell_type": "code",
   "execution_count": 6,
   "metadata": {},
   "outputs": [
    {
     "name": "stdout",
     "output_type": "stream",
     "text": [
      "{'stem': ['i', 'would', 'love', 'to', 'visit', 'mani', 'beaut', 'citi', 'wth', 'you', '.', 'he', 'live', 'in', 'an', 'amaz', 'countri', '.'], 'checked': ['I', 'would', 'love', 'to', 'visit', 'many', 'beautiful', 'cities', 'with', 'you', '.', 'He', 'lives', 'in', 'an', 'amazing', 'country', '.'], 'lemma': ['I', 'would', 'love', 'to', 'visit', 'many', 'beautful', 'city', 'wth', 'you', '.', 'He', 'life', 'in', 'an', 'amazing', 'country', '.'], 'document': ['I would love to visit many beautful cities wth you. He lives in an amazing country.'], 'pos': ['PRP', 'MD', 'VB', 'TO', 'VB', 'JJ', 'JJ', 'NNS', 'NN', 'PRP', '.', 'PRP', 'VBZ', 'IN', 'DT', 'JJ', 'NN', '.'], 'word_embeddings': ['I', 'would', 'love', 'to', 'visit', 'many', 'beautful', 'cities', 'wth', 'you', '.', 'He', 'lives', 'in', 'an', 'amazing', 'country', '.'], 'token': ['I', 'would', 'love', 'to', 'visit', 'many', 'beautful', 'cities', 'wth', 'you', '.', 'He', 'lives', 'in', 'an', 'amazing', 'country', '.'], 'ner_con': ['I', 'He'], 'ner': ['B-sent', 'O', 'O', 'O', 'O', 'O', 'O', 'O', 'O', 'O', 'O', 'B-sent', 'O', 'O', 'O', 'O', 'O', 'O'], 'sentence': ['I would love to visit many beautful cities wth you.', 'He lives in an amazing country.']}\n"
     ]
    }
   ],
   "source": [
    "print(result)"
   ]
  }
 ],
 "metadata": {
  "kernelspec": {
   "display_name": "Python 3",
   "language": "python",
   "name": "python3"
  },
  "language_info": {
   "codemirror_mode": {
    "name": "ipython",
    "version": 3
   },
   "file_extension": ".py",
   "mimetype": "text/x-python",
   "name": "python",
   "nbconvert_exporter": "python",
   "pygments_lexer": "ipython3",
   "version": "3.6.4"
  }
 },
 "nbformat": 4,
 "nbformat_minor": 2
}
