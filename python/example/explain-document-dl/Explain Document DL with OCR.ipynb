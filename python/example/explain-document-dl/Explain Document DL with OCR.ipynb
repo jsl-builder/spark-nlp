{
 "cells": [
  {
   "cell_type": "markdown",
   "metadata": {},
   "source": [
    "## Explain Document Deep Learning"
   ]
  },
  {
   "cell_type": "markdown",
   "metadata": {},
   "source": [
    "This notebook shows some of the available annotators in sparknlp. We start by importing required modules. "
   ]
  },
  {
   "cell_type": "code",
   "execution_count": 2,
   "metadata": {},
   "outputs": [],
   "source": [
    "import sparknlp\n",
    "spark = sparknlp.start_with_ocr()"
   ]
  },
  {
   "cell_type": "code",
   "execution_count": 3,
   "metadata": {},
   "outputs": [],
   "source": [
    "from sparknlp.pretrained import PretrainedPipeline\n",
    "from sparknlp.base import *"
   ]
  },
  {
   "cell_type": "markdown",
   "metadata": {},
   "source": [
    "Now, we load a pipeline model which contains the following annotators:\n",
    "Tokenizer, Deep Sentence Detector, Lemmatizer, Stemmer, Part of Speech (POS) and Context Spell Checker"
   ]
  },
  {
   "cell_type": "code",
   "execution_count": 4,
   "metadata": {
    "scrolled": true
   },
   "outputs": [
    {
     "name": "stdout",
     "output_type": "stream",
     "text": [
      "CPU times: user 11.5 ms, sys: 4.77 ms, total: 16.2 ms\n",
      "Wall time: 34.5 s\n"
     ]
    }
   ],
   "source": [
    "%%time\n",
    "pipeline = PretrainedPipeline('explain_document_dl')"
   ]
  },
  {
   "cell_type": "markdown",
   "metadata": {},
   "source": [
    "We simple send the text we want to transform and the pipeline does the work."
   ]
  },
  {
   "cell_type": "code",
   "execution_count": 5,
   "metadata": {},
   "outputs": [
    {
     "name": "stdout",
     "output_type": "stream",
     "text": [
      "+--------------------+--------------------+-------+------+\n",
      "|                text|            filename|pagenum|method|\n",
      "+--------------------+--------------------+-------+------+\n",
      "|would have been a...|file:/home/saif/I...|      1|  text|\n",
      "+--------------------+--------------------+-------+------+\n",
      "\n",
      "CPU times: user 353 µs, sys: 2.28 ms, total: 2.63 ms\n",
      "Wall time: 2.08 s\n"
     ]
    }
   ],
   "source": [
    "%%time\n",
    "from sparknlp.ocr import OcrHelper\n",
    "data = OcrHelper().createDataset(spark, './immortal_text.pdf')\n",
    "data.show()"
   ]
  },
  {
   "cell_type": "markdown",
   "metadata": {},
   "source": [
    "We can see the output of each annotator below."
   ]
  },
  {
   "cell_type": "code",
   "execution_count": 6,
   "metadata": {},
   "outputs": [
    {
     "name": "stdout",
     "output_type": "stream",
     "text": [
      "+--------------------+--------------------+\n",
      "|                 ner|             checked|\n",
      "+--------------------+--------------------+\n",
      "|[[named_entity, 0...|[[token, 0, 4, wo...|\n",
      "+--------------------+--------------------+\n",
      "\n"
     ]
    }
   ],
   "source": [
    "pipeline.transform(data).select(\"ner\", \"checked\").show()"
   ]
  },
  {
   "cell_type": "code",
   "execution_count": 11,
   "metadata": {},
   "outputs": [
    {
     "data": {
      "text/plain": [
       "'would have been a liberation, a joy, and a fiesta. \\nHe sensed that had he been able to choose or \\ndream his death that night, this is the death he \\nwould have dreamed or chosen.  \\nDahlmann firmly grips the knife, which he \\nmay have no idea how to manage, and steps out \\ninto the plains.  \\n \\n \\n \\nThe Aleph  \\n(1949) \\n \\n \\nThe Immortal \\n \\nSolomon saith: There is no new thing upon \\nthe earth.  So that as Plato had an imagination, \\nthat all knowledge was but remembrance;  so \\nSolomon giveth his sentence, that all novelty is \\nbut oblivion.  \\nFrancis Bacon: Essays,  LVIII \\n \\nIn London, in early June of the year 1929,'"
      ]
     },
     "execution_count": 11,
     "metadata": {},
     "output_type": "execute_result"
    }
   ],
   "source": [
    "local_data = data.select(\"text\").first()['text']\n",
    "local_data"
   ]
  },
  {
   "cell_type": "code",
   "execution_count": 13,
   "metadata": {},
   "outputs": [
    {
     "data": {
      "text/plain": [
       "[('would', 'B-sent'),\n",
       " ('have', 'O'),\n",
       " ('been', 'O'),\n",
       " ('a', 'O'),\n",
       " ('liberation', 'O'),\n",
       " (',', 'O'),\n",
       " ('a', 'B-sent'),\n",
       " ('joy', 'O'),\n",
       " (',', 'O'),\n",
       " ('and', 'B-sent'),\n",
       " ('a', 'O'),\n",
       " ('fiesta', 'O'),\n",
       " ('.', 'O'),\n",
       " ('He', 'B-sent'),\n",
       " ('sensed', 'O'),\n",
       " ('that', 'O'),\n",
       " ('had', 'O'),\n",
       " ('he', 'O'),\n",
       " ('been', 'O'),\n",
       " ('able', 'O'),\n",
       " ('to', 'O'),\n",
       " ('choose', 'O'),\n",
       " ('or', 'O'),\n",
       " ('dream', 'O'),\n",
       " ('his', 'O'),\n",
       " ('death', 'O'),\n",
       " ('that', 'O'),\n",
       " ('night', 'B-sent'),\n",
       " (',', 'O'),\n",
       " ('this', 'O'),\n",
       " ('is', 'O'),\n",
       " ('the', 'B-sent'),\n",
       " ('death', 'O'),\n",
       " ('he', 'O'),\n",
       " ('would', 'O'),\n",
       " ('have', 'O'),\n",
       " ('dreamed', 'O'),\n",
       " ('or', 'O'),\n",
       " ('chosen', 'O'),\n",
       " ('.', 'O'),\n",
       " ('Dahlmann', 'B-sent'),\n",
       " ('firmly', 'O'),\n",
       " ('grips', 'O'),\n",
       " ('the', 'O'),\n",
       " ('knife', 'O'),\n",
       " (',', 'O'),\n",
       " ('which', 'O'),\n",
       " ('he', 'B-sent'),\n",
       " ('may', 'O'),\n",
       " ('have', 'B-sent'),\n",
       " ('no', 'O'),\n",
       " ('idea', 'O'),\n",
       " ('how', 'O'),\n",
       " ('to', 'O'),\n",
       " ('manage', 'O'),\n",
       " (',', 'O'),\n",
       " ('and', 'B-sent'),\n",
       " ('steps', 'O'),\n",
       " ('out', 'O'),\n",
       " ('into', 'O'),\n",
       " ('the', 'O'),\n",
       " ('plains', 'O'),\n",
       " ('.', 'O'),\n",
       " ('The', 'B-sent'),\n",
       " ('Aleph', 'O'),\n",
       " ('(', 'O'),\n",
       " ('1949', 'O'),\n",
       " (')', 'O'),\n",
       " ('The', 'B-sent'),\n",
       " ('Immortal', 'O'),\n",
       " ('Solomon', 'O'),\n",
       " ('saith', 'O'),\n",
       " (':', 'O'),\n",
       " ('There', 'B-sent'),\n",
       " ('is', 'O'),\n",
       " ('no', 'O'),\n",
       " ('new', 'O'),\n",
       " ('thing', 'O'),\n",
       " ('upon', 'O'),\n",
       " ('the', 'O'),\n",
       " ('earth', 'O'),\n",
       " ('.', 'O'),\n",
       " ('So', 'O'),\n",
       " ('that', 'O'),\n",
       " ('as', 'O'),\n",
       " ('Plato', 'O'),\n",
       " ('had', 'O'),\n",
       " ('an', 'O'),\n",
       " ('imagination', 'O'),\n",
       " (',', 'O'),\n",
       " ('that', 'O'),\n",
       " ('all', 'O'),\n",
       " ('knowledge', 'O'),\n",
       " ('was', 'O'),\n",
       " ('but', 'O'),\n",
       " ('remembrance', 'B-sent'),\n",
       " (';', 'O'),\n",
       " ('so', 'B-sent'),\n",
       " ('Solomon', 'O'),\n",
       " ('giveth', 'O'),\n",
       " ('his', 'O'),\n",
       " ('sentence', 'O'),\n",
       " (',', 'O'),\n",
       " ('that', 'O'),\n",
       " ('all', 'O'),\n",
       " ('novelty', 'O'),\n",
       " ('is', 'O'),\n",
       " ('but', 'O'),\n",
       " ('oblivion', 'B-sent'),\n",
       " ('.', 'O'),\n",
       " ('Francis', 'B-sent'),\n",
       " ('Bacon', 'O'),\n",
       " (':', 'O'),\n",
       " ('Essays', 'B-sent'),\n",
       " (',', 'O'),\n",
       " ('LVIII', 'B-sent'),\n",
       " ('In', 'O'),\n",
       " ('London', 'O'),\n",
       " (',', 'O'),\n",
       " ('in', 'B-sent'),\n",
       " ('early', 'O'),\n",
       " ('June', 'O'),\n",
       " ('of', 'O'),\n",
       " ('the', 'O'),\n",
       " ('year', 'O'),\n",
       " ('1929', 'O'),\n",
       " (',', 'O')]"
      ]
     },
     "execution_count": 13,
     "metadata": {},
     "output_type": "execute_result"
    }
   ],
   "source": [
    "result = pipeline.annotate(local_data)\n",
    "list(zip(result['token'], result['ner']))"
   ]
  },
  {
   "cell_type": "code",
   "execution_count": null,
   "metadata": {},
   "outputs": [],
   "source": []
  }
 ],
 "metadata": {
  "kernelspec": {
   "display_name": "Python 3",
   "language": "python",
   "name": "python3"
  },
  "language_info": {
   "codemirror_mode": {
    "name": "ipython",
    "version": 3
   },
   "file_extension": ".py",
   "mimetype": "text/x-python",
   "name": "python",
   "nbconvert_exporter": "python",
   "pygments_lexer": "ipython3",
   "version": "3.7.2"
  }
 },
 "nbformat": 4,
 "nbformat_minor": 2
}
