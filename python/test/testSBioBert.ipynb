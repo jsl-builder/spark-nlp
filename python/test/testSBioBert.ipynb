{
 "cells": [
  {
   "cell_type": "code",
   "execution_count": 1,
   "metadata": {},
   "outputs": [],
   "source": [
    "import pyspark\n",
    "import sparknlp\n",
    "\n",
    "from pyspark.sql import SparkSession\n",
    "from pyspark.ml import Pipeline"
   ]
  },
  {
   "cell_type": "code",
   "execution_count": 2,
   "metadata": {},
   "outputs": [],
   "source": [
    "spark = SparkSession.builder \\\n",
    "    .appName(\"Spark NLP Licensed\") \\\n",
    "    .master(\"local[*]\") \\\n",
    "    .config(\"spark.driver.memory\", \"16G\") \\\n",
    "    .config(\"spark.serializer\", \"org.apache.spark.serializer.KryoSerializer\") \\\n",
    "    .config(\"spark.kryoserializer.buffer.max\", \"2000M\") \\\n",
    "    .config(\"spark.jars\", \"/home/i/projects/jsl/spark-nlp-internal/python/lib/sparknlp-jsl.jar,/home/i/IdeaProjects/spark-nlp/python/lib/sparknlp.jar\")\\\n",
    "    .getOrCreate()"
   ]
  },
  {
   "cell_type": "code",
   "execution_count": 3,
   "metadata": {},
   "outputs": [],
   "source": [
    "documenter = sparknlp.DocumentAssembler()\\\n",
    "    .setInputCol(\"text\")\\\n",
    "    .setOutputCol(\"document\")\n",
    "\n",
    "sentencerDL = sparknlp.annotator.SentenceDetectorDLModel\\\n",
    "    .load(\"/home/i/cache_pretrained/sentence_detector_dl_healthcare_en_2.6.0_2.4_1600001082565\")\\\n",
    "    .setInputCols([\"document\"])\\\n",
    "    .setOutputCol(\"sentences\")    \n",
    "\n",
    "sentEmbedder = sparknlp.annotator.BertSentenceEmbeddings\\\n",
    "      .load(\"/models/sbiobert\")\\\n",
    "      .setInputCols([\"sentences\"])\\\n",
    "      .setOutputCol(\"sentence_embeddings\")\n",
    "\n",
    "    \n",
    "pipeline = Pipeline(stages=[documenter, sentencerDL, sentEmbedder])"
   ]
  },
  {
   "cell_type": "code",
   "execution_count": 6,
   "metadata": {},
   "outputs": [],
   "source": [
    "data = spark.createDataFrame(\n",
    "    [\n",
    "        (1, 'John loves apples.'),\n",
    "        (2, 'Mary loves oranges. John loves Mary.'),\n",
    "        (3, 'John loves apples. John loves apples_.'),\n",
    "    ],\n",
    "    ['id', 'text']\n",
    ")"
   ]
  },
  {
   "cell_type": "code",
   "execution_count": 7,
   "metadata": {},
   "outputs": [],
   "source": [
    "results = pipeline.fit(data).transform(data)"
   ]
  },
  {
   "cell_type": "code",
   "execution_count": 18,
   "metadata": {},
   "outputs": [
    {
     "name": "stdout",
     "output_type": "stream",
     "text": [
      "John loves apples.  \t    -0.112    -0.682     0.478     0.838     0.161\n",
      "\n",
      "\n",
      "Mary loves oranges. \t    -0.643    -0.654    -0.006     1.731     0.138\n",
      "John loves Mary.    \t    -0.832    -0.404     0.148     0.496     0.850\n",
      "\n",
      "\n",
      "John loves apples.  \t    -0.112    -0.682     0.478     0.838     0.161\n",
      "John loves apples_. \t    -0.025    -0.592     0.523     0.672     0.077\n",
      "\n",
      "\n"
     ]
    }
   ],
   "source": [
    "for row in results.select(\"sentence_embeddings\").collect():\n",
    "    for embd in row.sentence_embeddings:\n",
    "        print(\"{:<20}\\t{}\".format(embd.result, \"\".join(map(lambda x: \"{:>10.3f}\".format(x), embd.embeddings[0:5]))))\n",
    "    print(\"\\n\")"
   ]
  },
  {
   "cell_type": "code",
   "execution_count": null,
   "metadata": {},
   "outputs": [],
   "source": []
  }
 ],
 "metadata": {
  "kernelspec": {
   "display_name": "jsl",
   "language": "python",
   "name": "jsl"
  },
  "language_info": {
   "codemirror_mode": {
    "name": "ipython",
    "version": 3
   },
   "file_extension": ".py",
   "mimetype": "text/x-python",
   "name": "python",
   "nbconvert_exporter": "python",
   "pygments_lexer": "ipython3",
   "version": "3.7.9"
  }
 },
 "nbformat": 4,
 "nbformat_minor": 4
}
