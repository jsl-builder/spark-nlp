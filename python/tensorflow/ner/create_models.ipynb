{
 "cells": [
  {
   "cell_type": "markdown",
   "metadata": {},
   "source": [
    "Creates Tensorflow Graphs for spark-nlp DL Annotators and Models\n"
   ]
  },
  {
   "cell_type": "code",
   "execution_count": null,
   "metadata": {},
   "outputs": [],
   "source": [
    "import tensorflow as tf\n",
    "\n",
    "from ner_model import NerModel"
   ]
  },
  {
   "cell_type": "code",
   "execution_count": null,
   "metadata": {
    "scrolled": true
   },
   "outputs": [],
   "source": [
    "def create_graph(ntags, embeddings_dim, nchars, chars_dim, char_filters, lstm_size = 200):\n",
    "\n",
    "    tf.reset_default_graph()\n",
    "    model_name = 'char_cnn_blstm_{}_{}_{}_{}_{}'.format(ntags, embeddings_dim, nchars, chars_dim, char_filters)\n",
    "    with tf.Session() as session:\n",
    "        ner = NerModel(session=None)\n",
    "        ner.add_cnn_char_repr(nchars, chars_dim, char_filters)\n",
    "        ner.add_pretrained_word_embeddings(embeddings_dim)\n",
    "        ner.add_context_repr(ntags, lstm_size)\n",
    "        ner.add_inference_layer(False)\n",
    "        ner.add_training_op(5)\n",
    "        \n",
    "        ner.init_variables()\n",
    "        \n",
    "        saver = tf.train.Saver()\n",
    "    \n",
    "        file_name = model_name + '.pb'\n",
    "        tf.train.write_graph(ner.session.graph, './', file_name, False)\n",
    "        ner.close()\n",
    "        session.close()"
   ]
  },
  {
   "cell_type": "code",
   "execution_count": null,
   "metadata": {},
   "outputs": [],
   "source": [
    "create_graph(10, 200, 200, 25, 30)"
   ]
  },
  {
   "cell_type": "code",
   "execution_count": null,
   "metadata": {},
   "outputs": [],
   "source": []
  }
 ],
 "metadata": {
  "anaconda-cloud": {},
  "kernelspec": {
   "display_name": "Python 3",
   "language": "python",
   "name": "python3"
  },
  "language_info": {
   "codemirror_mode": {
    "name": "ipython",
    "version": 3
   },
   "file_extension": ".py",
   "mimetype": "text/x-python",
   "name": "python",
   "nbconvert_exporter": "python",
   "pygments_lexer": "ipython3",
   "version": "3.6.6"
  }
 },
 "nbformat": 4,
 "nbformat_minor": 1
}
